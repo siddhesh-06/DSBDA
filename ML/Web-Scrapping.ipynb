{
 "cells": [
  {
   "cell_type": "code",
   "execution_count": 1,
   "id": "1db24739",
   "metadata": {},
   "outputs": [],
   "source": [
    "import requests\n",
    "from bs4 import BeautifulSoup\n",
    "import pandas as pd"
   ]
  },
  {
   "cell_type": "code",
   "execution_count": 2,
   "id": "26e40282",
   "metadata": {},
   "outputs": [],
   "source": [
    "url = \"https://www.flipkart.com/boat-airdopes-131-bluetooth-headset/p/itmf76c6f983fbca?pid=ACCFSDGXX3S6DVBG&lid=LSTACCFSDGXX3S6DVBGSRHQQR&marketplace=FLIPKART&store=0pm&srno=b_1_3&otracker=hp_rich_navigation_1_2.navigationCard.RICH_NAVIGATION_Electronics~Audio~All_9JGNW7M0TUHD&otracker1=hp_rich_navigation_PINNED_neo%2Fmerchandising_NA_NAV_EXPANDABLE_navigationCard_cc_1_L2_view-all&fm=organic&iid=a5b2130f-59d6-43cf-bee1-9cf0d1c6b920.ACCFSDGXX3S6DVBG.SEARCH&ppt=browse&ppn=browse&ssid=gin531wi000000001649657951918\""
   ]
  },
  {
   "cell_type": "code",
   "execution_count": 6,
   "id": "523169a1",
   "metadata": {},
   "outputs": [],
   "source": [
    "page = requests.get(url)"
   ]
  },
  {
   "cell_type": "code",
   "execution_count": 14,
   "id": "d97f4d84",
   "metadata": {},
   "outputs": [],
   "source": [
    "soup = BeautifulSoup(page.content, \"html.parser\")"
   ]
  },
  {
   "cell_type": "markdown",
   "id": "0670329f",
   "metadata": {},
   "source": [
    "## Customer"
   ]
  },
  {
   "cell_type": "code",
   "execution_count": 15,
   "id": "3cef2022",
   "metadata": {},
   "outputs": [
    {
     "data": {
      "text/plain": [
       "[<p class=\"_2sc7ZR _2V5EHH\">Azhar Maulavi</p>,\n",
       " <p class=\"_2sc7ZR _2V5EHH\">Nitish Raj</p>,\n",
       " <p class=\"_2sc7ZR _2V5EHH\">dipu soni</p>,\n",
       " <p class=\"_2sc7ZR _2V5EHH\">Hrishi Dukhande</p>,\n",
       " <p class=\"_2sc7ZR _2V5EHH\">Flipkart Customer</p>,\n",
       " <p class=\"_2sc7ZR _2V5EHH\">Ankush Nabiyal</p>,\n",
       " <p class=\"_2sc7ZR _2V5EHH\">Emam Hossain</p>,\n",
       " <p class=\"_2sc7ZR _2V5EHH\">Durgesh Awasthi</p>,\n",
       " <p class=\"_2sc7ZR _2V5EHH\">Garima  Awasthi</p>,\n",
       " <p class=\"_2sc7ZR _2V5EHH\">Anish Nair</p>]"
      ]
     },
     "execution_count": 15,
     "metadata": {},
     "output_type": "execute_result"
    }
   ],
   "source": [
    "customers_names = soup.find_all(\"p\", class_=\"_2sc7ZR _2V5EHH\")\n",
    "customers_names"
   ]
  },
  {
   "cell_type": "code",
   "execution_count": 16,
   "id": "dfd1076c",
   "metadata": {},
   "outputs": [
    {
     "data": {
      "text/plain": [
       "['Azhar Maulavi',\n",
       " 'Nitish Raj',\n",
       " 'dipu soni',\n",
       " 'Hrishi Dukhande',\n",
       " 'Flipkart Customer',\n",
       " 'Ankush Nabiyal',\n",
       " 'Emam Hossain',\n",
       " 'Durgesh Awasthi',\n",
       " 'Garima  Awasthi',\n",
       " 'Anish Nair']"
      ]
     },
     "execution_count": 16,
     "metadata": {},
     "output_type": "execute_result"
    }
   ],
   "source": [
    "customerNames = []\n",
    "for i in customers_names:\n",
    "    customerNames.append(i.text)\n",
    "customerNames"
   ]
  },
  {
   "cell_type": "code",
   "execution_count": 17,
   "id": "3c987cfe",
   "metadata": {},
   "outputs": [],
   "source": [
    "df = pd.DataFrame()"
   ]
  },
  {
   "cell_type": "code",
   "execution_count": 18,
   "id": "3fcfbcf4",
   "metadata": {},
   "outputs": [],
   "source": [
    "df[\"Names\"] = customerNames"
   ]
  },
  {
   "cell_type": "markdown",
   "id": "5bdebb27",
   "metadata": {},
   "source": [
    "## Review"
   ]
  },
  {
   "cell_type": "code",
   "execution_count": 19,
   "id": "a41fc430",
   "metadata": {},
   "outputs": [],
   "source": [
    "review = soup.find_all(\"div\", class_=\"t-ZTKy\")"
   ]
  },
  {
   "cell_type": "code",
   "execution_count": 23,
   "id": "cea53a59",
   "metadata": {},
   "outputs": [
    {
     "data": {
      "text/plain": [
       "[\"I hope you guys find this review helpful, well it's too soon for a review but I think it's worth every penny, Sound - Do not have high expectations for bass atleast, rest of the sound is amazing, you get a clear voice even if it turns a bit windy on roads, songs when played have a clear voice, good for casual song listening, you can watch movies and browse, sound is good even when you play games on phone.Battery backup - is amazing, I've been using it the whole day, as soon as you put the...READ MORE\",\n",
       " \"Fabulous in this range.. 1. Sound quality is very good2. Premium built quality and look.. from inside it may feel like plastic3. Battery backup is good..4. If you love bass the don't go for it..5. It doesn't block your ear.. you can hear surrounding voice while using itREAD MORE\",\n",
       " '(1) Worth of the money 💰(2) Nice design & comfort 👂(3) Good battery backup🔋(4) Nice sound quality and Bass also 🎶READ MORE',\n",
       " 'I never bought any kind of Bluetooth pairs, this was my first purchase and I can say this was the best purchase at this segment. The quality of the product and music is outstanding and I never expected that to in this price. Thank you, Flipkart for the express delivery which you offered.READ MORE',\n",
       " 'Worth of money. Not bad. Sound quality is good 👍, design is ossum . Totally the product is nice and you can buy this product.READ MORE',\n",
       " 'Best product you can buy in this price range. Sound quality is good and connecting speed is really fast and battery backup is also good.READ MORE',\n",
       " 'Nice and smooth quality earbuds of boats. I am like this products sound quality goodREAD MORE',\n",
       " \"Worth a single penny 👍👍, big thumbs up.I am simply giving 5 star rating, it exceeds my expectations,  those who is thinking to get something in affordable range,this airdopes are made for them only 👍 .I ordered this on first sale , though I wanted to order Black color, but black was out of stock so I have to order this color which looks elegant as well. After using for a day I am writing this, this is worth to buy , don't think too much just go for it, according to price nothing is com...READ MORE\",\n",
       " \"And yes there you go...You have the best in-budget tws....First of all, let me get something straight- It has amazing sound quality A decent bass A nice battery backup But it lacks only in built design. Yes these are not much comfortable for long durations.My verdict:- If you are a comfort lover then these are not meant for you.You should then go for some tws with vacuum grip.Edit:- Since I'm now used to it, it seems very comfortable to me...Just go for itREAD MORE\",\n",
       " 'First thanks to flipkart for super fast delivery.Boat has brought great airdopes in such a affordable price.Sound quality is good .Light weight .Good colors.Bass could have been better.Overall great product from Made in India Brand Boat.READ MORE']"
      ]
     },
     "execution_count": 23,
     "metadata": {},
     "output_type": "execute_result"
    }
   ],
   "source": [
    "cust_review = []\n",
    "for i in review:\n",
    "    div = i.find(\"div\", class_=\"\")\n",
    "    cust_review.append(div.text)\n",
    "cust_review"
   ]
  },
  {
   "cell_type": "code",
   "execution_count": 22,
   "id": "f4b0e14a",
   "metadata": {},
   "outputs": [],
   "source": [
    "df[\"Review\"] = review"
   ]
  },
  {
   "cell_type": "markdown",
   "id": "e967771f",
   "metadata": {},
   "source": [
    "## Review title"
   ]
  },
  {
   "cell_type": "code",
   "execution_count": 24,
   "id": "541f5e83",
   "metadata": {},
   "outputs": [],
   "source": [
    "review_Title = soup.find_all(\"p\", class_=\"_2-N8zT\")"
   ]
  },
  {
   "cell_type": "code",
   "execution_count": 25,
   "id": "05731510",
   "metadata": {},
   "outputs": [
    {
     "data": {
      "text/plain": [
       "['Mind-blowing purchase',\n",
       " 'Pretty good',\n",
       " 'Brilliant',\n",
       " 'Excellent',\n",
       " 'Awesome',\n",
       " 'Wonderful',\n",
       " 'Good choice',\n",
       " 'Highly recommended',\n",
       " 'Worth every penny',\n",
       " 'Wonderful']"
      ]
     },
     "execution_count": 25,
     "metadata": {},
     "output_type": "execute_result"
    }
   ],
   "source": [
    "reviewTitle = []\n",
    "for i in review_Title:\n",
    "    reviewTitle.append(i.text)\n",
    "reviewTitle"
   ]
  },
  {
   "cell_type": "code",
   "execution_count": 26,
   "id": "cb04afe1",
   "metadata": {},
   "outputs": [],
   "source": [
    "df[\"Review_title\"] = reviewTitle"
   ]
  },
  {
   "cell_type": "markdown",
   "id": "9de9f442",
   "metadata": {},
   "source": [
    "## Rating"
   ]
  },
  {
   "cell_type": "code",
   "execution_count": 28,
   "id": "d7220bf6",
   "metadata": {},
   "outputs": [
    {
     "data": {
      "text/plain": [
       "['5', '4', '5', '5', '5', '5', '4', '5', '5', '5']"
      ]
     },
     "execution_count": 28,
     "metadata": {},
     "output_type": "execute_result"
    }
   ],
   "source": [
    "rating = soup.find_all(\"div\", class_=\"_3LWZlK _1BLPMq\")\n",
    "ratings = []\n",
    "for i in rating:\n",
    "    ratings.append(i.text)\n",
    "ratings"
   ]
  },
  {
   "cell_type": "code",
   "execution_count": 29,
   "id": "5ad5deb6",
   "metadata": {},
   "outputs": [],
   "source": [
    "df[\"Rating\"] = ratings"
   ]
  },
  {
   "cell_type": "code",
   "execution_count": 30,
   "id": "a70273db",
   "metadata": {},
   "outputs": [
    {
     "data": {
      "text/html": [
       "<div>\n",
       "<style scoped>\n",
       "    .dataframe tbody tr th:only-of-type {\n",
       "        vertical-align: middle;\n",
       "    }\n",
       "\n",
       "    .dataframe tbody tr th {\n",
       "        vertical-align: top;\n",
       "    }\n",
       "\n",
       "    .dataframe thead th {\n",
       "        text-align: right;\n",
       "    }\n",
       "</style>\n",
       "<table border=\"1\" class=\"dataframe\">\n",
       "  <thead>\n",
       "    <tr style=\"text-align: right;\">\n",
       "      <th></th>\n",
       "      <th>Names</th>\n",
       "      <th>Review</th>\n",
       "      <th>Review_title</th>\n",
       "      <th>Rating</th>\n",
       "    </tr>\n",
       "  </thead>\n",
       "  <tbody>\n",
       "    <tr>\n",
       "      <th>0</th>\n",
       "      <td>Azhar Maulavi</td>\n",
       "      <td>[[[I hope you guys find this review helpful, w...</td>\n",
       "      <td>Mind-blowing purchase</td>\n",
       "      <td>5</td>\n",
       "    </tr>\n",
       "    <tr>\n",
       "      <th>1</th>\n",
       "      <td>Nitish Raj</td>\n",
       "      <td>[[[Fabulous in this range.. , &lt;br/&gt;, &lt;br/&gt;, 1....</td>\n",
       "      <td>Pretty good</td>\n",
       "      <td>4</td>\n",
       "    </tr>\n",
       "    <tr>\n",
       "      <th>2</th>\n",
       "      <td>dipu soni</td>\n",
       "      <td>[[[(1) Worth of the money 💰, &lt;br/&gt;, (2) Nice d...</td>\n",
       "      <td>Brilliant</td>\n",
       "      <td>5</td>\n",
       "    </tr>\n",
       "    <tr>\n",
       "      <th>3</th>\n",
       "      <td>Hrishi Dukhande</td>\n",
       "      <td>[[[I never bought any kind of Bluetooth pairs,...</td>\n",
       "      <td>Excellent</td>\n",
       "      <td>5</td>\n",
       "    </tr>\n",
       "    <tr>\n",
       "      <th>4</th>\n",
       "      <td>Flipkart Customer</td>\n",
       "      <td>[[[Worth of money. Not bad. Sound quality is g...</td>\n",
       "      <td>Awesome</td>\n",
       "      <td>5</td>\n",
       "    </tr>\n",
       "    <tr>\n",
       "      <th>5</th>\n",
       "      <td>Ankush Nabiyal</td>\n",
       "      <td>[[[Best product you can buy in this price rang...</td>\n",
       "      <td>Wonderful</td>\n",
       "      <td>5</td>\n",
       "    </tr>\n",
       "    <tr>\n",
       "      <th>6</th>\n",
       "      <td>Emam Hossain</td>\n",
       "      <td>[[[Nice and smooth quality earbuds of boats. I...</td>\n",
       "      <td>Good choice</td>\n",
       "      <td>4</td>\n",
       "    </tr>\n",
       "    <tr>\n",
       "      <th>7</th>\n",
       "      <td>Durgesh Awasthi</td>\n",
       "      <td>[[[Worth a single penny 👍👍, big thumbs up., &lt;b...</td>\n",
       "      <td>Highly recommended</td>\n",
       "      <td>5</td>\n",
       "    </tr>\n",
       "    <tr>\n",
       "      <th>8</th>\n",
       "      <td>Garima  Awasthi</td>\n",
       "      <td>[[[And yes there you go...You have the best in...</td>\n",
       "      <td>Worth every penny</td>\n",
       "      <td>5</td>\n",
       "    </tr>\n",
       "    <tr>\n",
       "      <th>9</th>\n",
       "      <td>Anish Nair</td>\n",
       "      <td>[[[First thanks to flipkart for super fast del...</td>\n",
       "      <td>Wonderful</td>\n",
       "      <td>5</td>\n",
       "    </tr>\n",
       "  </tbody>\n",
       "</table>\n",
       "</div>"
      ],
      "text/plain": [
       "               Names                                             Review  \\\n",
       "0      Azhar Maulavi  [[[I hope you guys find this review helpful, w...   \n",
       "1         Nitish Raj  [[[Fabulous in this range.. , <br/>, <br/>, 1....   \n",
       "2          dipu soni  [[[(1) Worth of the money 💰, <br/>, (2) Nice d...   \n",
       "3    Hrishi Dukhande  [[[I never bought any kind of Bluetooth pairs,...   \n",
       "4  Flipkart Customer  [[[Worth of money. Not bad. Sound quality is g...   \n",
       "5     Ankush Nabiyal  [[[Best product you can buy in this price rang...   \n",
       "6       Emam Hossain  [[[Nice and smooth quality earbuds of boats. I...   \n",
       "7    Durgesh Awasthi  [[[Worth a single penny 👍👍, big thumbs up., <b...   \n",
       "8    Garima  Awasthi  [[[And yes there you go...You have the best in...   \n",
       "9         Anish Nair  [[[First thanks to flipkart for super fast del...   \n",
       "\n",
       "            Review_title Rating  \n",
       "0  Mind-blowing purchase      5  \n",
       "1            Pretty good      4  \n",
       "2              Brilliant      5  \n",
       "3              Excellent      5  \n",
       "4                Awesome      5  \n",
       "5              Wonderful      5  \n",
       "6            Good choice      4  \n",
       "7     Highly recommended      5  \n",
       "8      Worth every penny      5  \n",
       "9              Wonderful      5  "
      ]
     },
     "execution_count": 30,
     "metadata": {},
     "output_type": "execute_result"
    }
   ],
   "source": [
    "df"
   ]
  },
  {
   "cell_type": "code",
   "execution_count": null,
   "id": "0a3fa78f",
   "metadata": {},
   "outputs": [],
   "source": []
  }
 ],
 "metadata": {
  "kernelspec": {
   "display_name": "Python 3",
   "language": "python",
   "name": "python3"
  },
  "language_info": {
   "codemirror_mode": {
    "name": "ipython",
    "version": 3
   },
   "file_extension": ".py",
   "mimetype": "text/x-python",
   "name": "python",
   "nbconvert_exporter": "python",
   "pygments_lexer": "ipython3",
   "version": "3.8.8"
  }
 },
 "nbformat": 4,
 "nbformat_minor": 5
}
